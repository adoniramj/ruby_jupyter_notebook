{
 "cells": [
  {
   "cell_type": "markdown",
   "metadata": {},
   "source": [
    "# Hash iterations"
   ]
  },
  {
   "cell_type": "markdown",
   "metadata": {},
   "source": [
    "When iterating over hashes keep in mind key and value. The key concept is straight forward. The key stores a value. The thing to take into account is to remember that the value can also be another hash. "
   ]
  },
  {
   "cell_type": "markdown",
   "metadata": {},
   "source": [
    "### Iterating over a symmetrical hash"
   ]
  },
  {
   "cell_type": "code",
   "execution_count": 2,
   "metadata": {},
   "outputs": [
    {
     "data": {
      "text/plain": [
       "{:key_1=>{:key_1_1=>{:value1=>\"I belong to key_1_1\", :value2=>\"I also belong to key_1_1\"}, :key_1_2=>{:value1=>\"I belong to key_1_2\", :value2=>\"I also belong to key_1_2\"}}, :key_2=>{:key_2_1=>{:value1=>\"I belong to key_2_1\", :value2=>\"I also belong to key_2_1\"}, :key_2_2=>{:value1=>\"I belong to key_2_2\", :value2=>\"I also belong to key_2_2\"}}, :key_3=>{:key_3_1=>{:value1=>\"I belong to key_3_1\", :value2=>\"I also belong to key_3_1\"}, :key_3_2=>{:value1=>\"I belong to key_3_2\", :value2=>\"I also belong to key_3_2\"}}}"
      ]
     },
     "execution_count": 2,
     "metadata": {},
     "output_type": "execute_result"
    }
   ],
   "source": [
    "symmetrical_hash = {\n",
    "                    key_1: {\n",
    "                            key_1_1: {\n",
    "                              value1: \"I belong to key_1_1\",\n",
    "                              value2: \"I also belong to key_1_1\"\n",
    "                            },\n",
    "                            key_1_2: {\n",
    "                              value1: \"I belong to key_1_2\",\n",
    "                              value2: \"I also belong to key_1_2\"\n",
    "                            }\n",
    "                    },\n",
    "                    key_2: {\n",
    "                            key_2_1: {\n",
    "                                      value1: \"I belong to key_2_1\",\n",
    "                                      value2: \"I also belong to key_2_1\"         \n",
    "                                     },\n",
    "                            key_2_2: {\n",
    "                                      value1: \"I belong to key_2_2\",\n",
    "                                      value2: \"I also belong to key_2_2\"  \n",
    "                                     }\n",
    "                           },\n",
    "                    key_3: {\n",
    "                            key_3_1: {\n",
    "                                      value1: \"I belong to key_3_1\",\n",
    "                                      value2: \"I also belong to key_3_1\"  \n",
    "                                     },\n",
    "                            key_3_2: {\n",
    "                                      value1: \"I belong to key_3_2\",\n",
    "                                      value2: \"I also belong to key_3_2\"\n",
    "                                     }\n",
    "                           }\n",
    "                    }"
   ]
  },
  {
   "cell_type": "markdown",
   "metadata": {},
   "source": [
    "### Iterating over the first level keys and values"
   ]
  },
  {
   "cell_type": "code",
   "execution_count": 5,
   "metadata": {},
   "outputs": [
    {
     "name": "stdout",
     "output_type": "stream",
     "text": [
      "key_1\n",
      "key_2\n",
      "key_3\n",
      "{:key_1_1=>{:value1=>\"I belong to key_1_1\", :value2=>\"I also belong to key_1_1\"}, :key_1_2=>{:value1=>\"I belong to key_1_2\", :value2=>\"I also belong to key_1_2\"}}\n",
      "{:key_2_1=>{:value1=>\"I belong to key_2_1\", :value2=>\"I also belong to key_2_1\"}, :key_2_2=>{:value1=>\"I belong to key_2_2\", :value2=>\"I also belong to key_2_2\"}}\n",
      "{:key_3_1=>{:value1=>\"I belong to key_3_1\", :value2=>\"I also belong to key_3_1\"}, :key_3_2=>{:value1=>\"I belong to key_3_2\", :value2=>\"I also belong to key_3_2\"}}\n"
     ]
    },
    {
     "data": {
      "text/plain": [
       "{:key_1=>{:key_1_1=>{:value1=>\"I belong to key_1_1\", :value2=>\"I also belong to key_1_1\"}, :key_1_2=>{:value1=>\"I belong to key_1_2\", :value2=>\"I also belong to key_1_2\"}}, :key_2=>{:key_2_1=>{:value1=>\"I belong to key_2_1\", :value2=>\"I also belong to key_2_1\"}, :key_2_2=>{:value1=>\"I belong to key_2_2\", :value2=>\"I also belong to key_2_2\"}}, :key_3=>{:key_3_1=>{:value1=>\"I belong to key_3_1\", :value2=>\"I also belong to key_3_1\"}, :key_3_2=>{:value1=>\"I belong to key_3_2\", :value2=>\"I also belong to key_3_2\"}}}"
      ]
     },
     "execution_count": 5,
     "metadata": {},
     "output_type": "execute_result"
    }
   ],
   "source": [
    "symmetrical_hash.each do |level1_keys, level1_values|\n",
    "  puts level1_keys\n",
    "end\n",
    "\n",
    "symmetrical_hash.each do |level1_keys, level1_values|\n",
    "  puts level1_values\n",
    "end"
   ]
  },
  {
   "cell_type": "markdown",
   "metadata": {},
   "source": [
    "### Iterating over the second level"
   ]
  },
  {
   "cell_type": "code",
   "execution_count": 7,
   "metadata": {},
   "outputs": [
    {
     "name": "stdout",
     "output_type": "stream",
     "text": [
      "key_1_1\n",
      "key_1_2\n",
      "key_2_1\n",
      "key_2_2\n",
      "key_3_1\n",
      "key_3_2\n",
      "{:value1=>\"I belong to key_1_1\", :value2=>\"I also belong to key_1_1\"}\n",
      "{:value1=>\"I belong to key_1_2\", :value2=>\"I also belong to key_1_2\"}\n",
      "{:value1=>\"I belong to key_2_1\", :value2=>\"I also belong to key_2_1\"}\n",
      "{:value1=>\"I belong to key_2_2\", :value2=>\"I also belong to key_2_2\"}\n",
      "{:value1=>\"I belong to key_3_1\", :value2=>\"I also belong to key_3_1\"}\n",
      "{:value1=>\"I belong to key_3_2\", :value2=>\"I also belong to key_3_2\"}\n"
     ]
    },
    {
     "data": {
      "text/plain": [
       "{:key_1=>{:key_1_1=>{:value1=>\"I belong to key_1_1\", :value2=>\"I also belong to key_1_1\"}, :key_1_2=>{:value1=>\"I belong to key_1_2\", :value2=>\"I also belong to key_1_2\"}}, :key_2=>{:key_2_1=>{:value1=>\"I belong to key_2_1\", :value2=>\"I also belong to key_2_1\"}, :key_2_2=>{:value1=>\"I belong to key_2_2\", :value2=>\"I also belong to key_2_2\"}}, :key_3=>{:key_3_1=>{:value1=>\"I belong to key_3_1\", :value2=>\"I also belong to key_3_1\"}, :key_3_2=>{:value1=>\"I belong to key_3_2\", :value2=>\"I also belong to key_3_2\"}}}"
      ]
     },
     "execution_count": 7,
     "metadata": {},
     "output_type": "execute_result"
    }
   ],
   "source": [
    "symmetrical_hash.each do |level1_keys, level1_values|\n",
    "  level1_values.each do |level2_keys, level2_values|\n",
    "    puts level2_keys\n",
    "  end\n",
    "end\n",
    "\n",
    "symmetrical_hash.each do |level1_keys, level1_values|\n",
    "  level1_values.each do |level2_keys, level2_values|\n",
    "    puts level2_values\n",
    "  end\n",
    "end"
   ]
  },
  {
   "cell_type": "markdown",
   "metadata": {},
   "source": [
    "### Iterating over the inner most level"
   ]
  },
  {
   "cell_type": "code",
   "execution_count": 8,
   "metadata": {},
   "outputs": [
    {
     "name": "stdout",
     "output_type": "stream",
     "text": [
      "key_1_1\n",
      "key_1_2\n",
      "key_2_1\n",
      "key_2_2\n",
      "key_3_1\n",
      "key_3_2\n",
      "{:value1=>\"I belong to key_1_1\", :value2=>\"I also belong to key_1_1\"}\n",
      "{:value1=>\"I belong to key_1_2\", :value2=>\"I also belong to key_1_2\"}\n",
      "{:value1=>\"I belong to key_2_1\", :value2=>\"I also belong to key_2_1\"}\n",
      "{:value1=>\"I belong to key_2_2\", :value2=>\"I also belong to key_2_2\"}\n",
      "{:value1=>\"I belong to key_3_1\", :value2=>\"I also belong to key_3_1\"}\n",
      "{:value1=>\"I belong to key_3_2\", :value2=>\"I also belong to key_3_2\"}\n"
     ]
    },
    {
     "data": {
      "text/plain": [
       "{:key_1=>{:key_1_1=>{:value1=>\"I belong to key_1_1\", :value2=>\"I also belong to key_1_1\"}, :key_1_2=>{:value1=>\"I belong to key_1_2\", :value2=>\"I also belong to key_1_2\"}}, :key_2=>{:key_2_1=>{:value1=>\"I belong to key_2_1\", :value2=>\"I also belong to key_2_1\"}, :key_2_2=>{:value1=>\"I belong to key_2_2\", :value2=>\"I also belong to key_2_2\"}}, :key_3=>{:key_3_1=>{:value1=>\"I belong to key_3_1\", :value2=>\"I also belong to key_3_1\"}, :key_3_2=>{:value1=>\"I belong to key_3_2\", :value2=>\"I also belong to key_3_2\"}}}"
      ]
     },
     "execution_count": 8,
     "metadata": {},
     "output_type": "execute_result"
    }
   ],
   "source": [
    "symmetrical_hash.each do |level1_keys, level1_values|\n",
    "  level1_values.each do |level2_keys, level2_values|\n",
    "    puts level2_keys\n",
    "  end\n",
    "end\n",
    "\n",
    "symmetrical_hash.each do |level1_keys, level1_values|\n",
    "  level1_values.each do |level2_keys, level2_values|\n",
    "    puts level2_values\n",
    "  end\n",
    "end"
   ]
  },
  {
   "cell_type": "code",
   "execution_count": 10,
   "metadata": {},
   "outputs": [
    {
     "name": "stdout",
     "output_type": "stream",
     "text": [
      "[:value1, \"I belong to key_1_1\"]\n",
      "[:value2, \"I also belong to key_1_1\"]\n",
      "[:value1, \"I belong to key_1_2\"]\n",
      "[:value2, \"I also belong to key_1_2\"]\n",
      "[:value1, \"I belong to key_2_1\"]\n",
      "[:value2, \"I also belong to key_2_1\"]\n",
      "[:value1, \"I belong to key_2_2\"]\n",
      "[:value2, \"I also belong to key_2_2\"]\n",
      "[:value1, \"I belong to key_3_1\"]\n",
      "[:value2, \"I also belong to key_3_1\"]\n",
      "[:value1, \"I belong to key_3_2\"]\n",
      "[:value2, \"I also belong to key_3_2\"]\n",
      "I belong to key_1_1\n",
      "I belong to key_1_1\n",
      "I also belong to key_1_1\n",
      "I also belong to key_1_1\n",
      "I belong to key_1_2\n",
      "I belong to key_1_2\n",
      "I also belong to key_1_2\n",
      "I also belong to key_1_2\n",
      "I belong to key_2_1\n",
      "I belong to key_2_1\n",
      "I also belong to key_2_1\n",
      "I also belong to key_2_1\n",
      "I belong to key_2_2\n",
      "I belong to key_2_2\n",
      "I also belong to key_2_2\n",
      "I also belong to key_2_2\n",
      "I belong to key_3_1\n",
      "I belong to key_3_1\n",
      "I also belong to key_3_1\n",
      "I also belong to key_3_1\n",
      "I belong to key_3_2\n",
      "I belong to key_3_2\n",
      "I also belong to key_3_2\n",
      "I also belong to key_3_2\n"
     ]
    },
    {
     "data": {
      "text/plain": [
       "{:key_1=>{:key_1_1=>{:value1=>\"I belong to key_1_1\", :value2=>\"I also belong to key_1_1\"}, :key_1_2=>{:value1=>\"I belong to key_1_2\", :value2=>\"I also belong to key_1_2\"}}, :key_2=>{:key_2_1=>{:value1=>\"I belong to key_2_1\", :value2=>\"I also belong to key_2_1\"}, :key_2_2=>{:value1=>\"I belong to key_2_2\", :value2=>\"I also belong to key_2_2\"}}, :key_3=>{:key_3_1=>{:value1=>\"I belong to key_3_1\", :value2=>\"I also belong to key_3_1\"}, :key_3_2=>{:value1=>\"I belong to key_3_2\", :value2=>\"I also belong to key_3_2\"}}}"
      ]
     },
     "execution_count": 10,
     "metadata": {},
     "output_type": "execute_result"
    }
   ],
   "source": [
    "symmetrical_hash.each do |level1_keys, level1_values|\n",
    "  level1_values.each do |level2_keys, level2_values|\n",
    "    level2_values.each do |level3_keys|\n",
    "      puts level3_keys\n",
    "    end\n",
    "  end\n",
    "end\n",
    "\n",
    "symmetrical_hash.each do |level1_keys, level1_values|\n",
    "  level1_values.each do |level2_keys, level2_values|\n",
    "    level2_values.each do |level3_keys, level3_values|\n",
    "      puts level3_values\n",
    "      puts level3_values\n",
    "    end\n",
    "  end\n",
    "end"
   ]
  },
  {
   "cell_type": "code",
   "execution_count": null,
   "metadata": {},
   "outputs": [],
   "source": []
  }
 ],
 "metadata": {
  "kernelspec": {
   "display_name": "Ruby 2.6.5",
   "language": "ruby",
   "name": "ruby"
  },
  "language_info": {
   "file_extension": ".rb",
   "mimetype": "application/x-ruby",
   "name": "ruby",
   "version": "2.6.5"
  }
 },
 "nbformat": 4,
 "nbformat_minor": 2
}
