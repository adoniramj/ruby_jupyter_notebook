{
 "cells": [
  {
   "cell_type": "markdown",
   "metadata": {},
   "source": [
    "# Self in instance methods"
   ]
  },
  {
   "cell_type": "code",
   "execution_count": 1,
   "metadata": {},
   "outputs": [
    {
     "ename": "SyntaxError",
     "evalue": "invalid syntax (<ipython-input-1-1c241f07b5c1>, line 1)",
     "output_type": "error",
     "traceback": [
      "\u001b[0;36m  File \u001b[0;32m\"<ipython-input-1-1c241f07b5c1>\"\u001b[0;36m, line \u001b[0;32m1\u001b[0m\n\u001b[0;31m    class VideoGameCharacter\u001b[0m\n\u001b[0m                            ^\u001b[0m\n\u001b[0;31mSyntaxError\u001b[0m\u001b[0;31m:\u001b[0m invalid syntax\n"
     ]
    }
   ],
   "source": [
    "class VideoGameCharacter\n",
    "  attr_accessor :level\n",
    "  \n",
    "  @@test_variable =  'This is a test variable'\n",
    "  @@all = []\n",
    "  \n",
    "  def initialize (name, level)\n",
    "    @name = name\n",
    "    @level = level\n",
    "    @@all << self\n",
    "  end\n",
    "  \n",
    "  def level_up\n",
    "    self.level += 1\n",
    "  end\n",
    "  \n",
    "  def self.test\n",
    "    @@test_variable\n",
    "  end\n",
    "  def self.all\n",
    "    @@all\n",
    "  end\n",
    "end"
   ]
  },
  {
   "cell_type": "markdown",
   "metadata": {},
   "source": [
    "- @name and @level are instance variables.\n",
    "- attr_accessor is needed to read/write @level"
   ]
  },
  {
   "cell_type": "code",
   "execution_count": 0,
   "metadata": {},
   "outputs": [],
   "source": [
    "mario = VideoGameCharacter.new(\"Mario\", 1)"
   ]
  },
  {
   "cell_type": "code",
   "execution_count": 0,
   "metadata": {},
   "outputs": [],
   "source": [
    "luigi = VideoGameCharacter.new(\"Luigi\", 12)"
   ]
  },
  {
   "cell_type": "code",
   "execution_count": 0,
   "metadata": {},
   "outputs": [],
   "source": [
    "mario.level_up\n",
    "puts mario.level\n"
   ]
  },
  {
   "cell_type": "code",
   "execution_count": 0,
   "metadata": {},
   "outputs": [],
   "source": [
    "luigi.level_up\n",
    "puts luigi.level"
   ]
  },
  {
   "cell_type": "markdown",
   "metadata": {},
   "source": [
    "**Explanation**\n",
    "- The self keyword inside of the instance method level_up refers to whatever instance of the class VideoGameCharacter you called the instance method on. In this case the instace is mario. So Ruby knows that is the level of mario and not luigi that needs to increment by 1.\n",
    "\n",
    "**Key point** \n",
    "- Level_up is an **instance** method so it needs an instance to be executed.\n",
    "\n",
    "**Review**\n",
    "- An instance is an object created from a class. In this example mario and luigi are instances of the class VideoGameCharacter."
   ]
  },
  {
   "cell_type": "markdown",
   "metadata": {},
   "source": [
    "# Self in class methods"
   ]
  },
  {
   "cell_type": "markdown",
   "metadata": {},
   "source": [
    "**Explantation** \n",
    "- In the class definition `@@test` is a class variable. \n",
    "- Instances of a class do not have access to class variables.\n",
    "- Excuting the code `mario.test` will produce an error.\n",
    "**Key points**\n",
    "- Any method inside a class whose name has the format: `self.name_of_method` is a class method, not an instance method."
   ]
  },
  {
   "cell_type": "code",
   "execution_count": 0,
   "metadata": {},
   "outputs": [],
   "source": [
    "VideoGameCharacter.test"
   ]
  },
  {
   "cell_type": "code",
   "execution_count": 0,
   "metadata": {},
   "outputs": [],
   "source": [
    "VideoGameCharacter.all"
   ]
  }
 ],
 "metadata": {
  "kernelspec": {
   "display_name": "Ruby 2.6.5",
   "language": "ruby",
   "name": "ruby"
  },
  "language_info": {
   "file_extension": ".rb",
   "mimetype": "application/x-ruby",
   "name": "ruby",
   "version": "3.7.4"
  }
 },
 "nbformat": 4,
 "nbformat_minor": 2
}